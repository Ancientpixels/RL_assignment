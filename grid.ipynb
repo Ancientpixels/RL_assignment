{
 "cells": [
  {
   "cell_type": "code",
   "execution_count": null,
   "metadata": {},
   "outputs": [],
   "source": [
    "import numpy as np\n",
    "import random\n",
    "\n",
    "class GridWorld:\n",
    "    def __init__(self, size=100, num_obstacles=1000):\n",
    "        self.size = size\n",
    "        self.grid = np.zeros((size, size))\n",
    "        self.start = (random.randint(0, size-1), random.randint(0, size-1))\n",
    "        self.goal = (random.randint(0, size-1), random.randint(0, size-1))\n",
    "        \n",
    "        while self.goal == self.start:\n",
    "            self.goal = (random.randint(0, size-1), random.randint(0, size-1))\n",
    "        \n",
    "        for _ in range(num_obstacles):\n",
    "            x, y = random.randint(0, size-1), random.randint(0, size-1)\n",
    "            while (x, y) == self.start or (x, y) == self.goal:\n",
    "                x, y = random.randint(0, size-1), random.randint(0, size-1)\n",
    "            self.grid[x, y] = -1  \n",
    "        \n",
    "        self.grid[self.start] = 1  \n",
    "        self.grid[self.goal] = 2  \n",
    "        \n",
    "        self.current_state = self.start\n",
    "    \n",
    "    def reset(self):\n",
    "        self.current_state = self.start\n",
    "        return self.current_state\n",
    "    \n",
    "    def step(self, action):\n",
    "        x, y = self.current_state\n",
    "        if action == 0: \n",
    "            x = max(0, x - 1)\n",
    "        elif action == 1: \n",
    "            x = min(self.size - 1, x + 1)\n",
    "        elif action == 2: \n",
    "            y = max(0, y - 1)\n",
    "        elif action == 3: \n",
    "            y = min(self.size - 1, y + 1)\n",
    "        \n",
    "        if self.grid[x, y] == -1:  \n",
    "            return self.current_state, -1, False\n",
    "        \n",
    "        self.current_state = (x, y)\n",
    "        \n",
    "        if self.current_state == self.goal:\n",
    "            return self.current_state, 100, True  \n",
    "        \n",
    "        return self.current_state, -0.1, False  "
   ]
  },
  {
   "cell_type": "code",
   "execution_count": 2,
   "metadata": {},
   "outputs": [],
   "source": [
    "class QLearningAgent:\n",
    "    def __init__(self, state_space, action_space, learning_rate=0.1, discount_factor=0.99, epsilon=1.0, epsilon_decay=0.995, epsilon_min=0.01):\n",
    "        self.state_space = state_space\n",
    "        self.action_space = action_space\n",
    "        self.learning_rate = learning_rate\n",
    "        self.discount_factor = discount_factor\n",
    "        self.epsilon = epsilon\n",
    "        self.epsilon_decay = epsilon_decay\n",
    "        self.epsilon_min = epsilon_min\n",
    "        self.Q = {}\n",
    "    \n",
    "    def get_action(self, state):\n",
    "        if np.random.rand() <= self.epsilon:\n",
    "            return random.choice(self.action_space)\n",
    "        else:\n",
    "            return self.get_best_action(state)\n",
    "    \n",
    "    def get_best_action(self, state):\n",
    "        if state not in self.Q:\n",
    "            self.Q[state] = np.zeros(len(self.action_space))\n",
    "        return np.argmax(self.Q[state])\n",
    "    \n",
    "    def update_q_value(self, state, action, reward, next_state):\n",
    "        if state not in self.Q:\n",
    "            self.Q[state] = np.zeros(len(self.action_space))\n",
    "        if next_state not in self.Q:\n",
    "            self.Q[next_state] = np.zeros(len(self.action_space))\n",
    "        \n",
    "        best_next_action = self.get_best_action(next_state)\n",
    "        td_target = reward + self.discount_factor * self.Q[next_state][best_next_action]\n",
    "        td_error = td_target - self.Q[state][action]\n",
    "        self.Q[state][action] += self.learning_rate * td_error\n",
    "    \n",
    "    def decay_epsilon(self):\n",
    "        self.epsilon = max(self.epsilon_min, self.epsilon * self.epsilon_decay)"
   ]
  },
  {
   "cell_type": "code",
   "execution_count": null,
   "metadata": {},
   "outputs": [
    {
     "name": "stdout",
     "output_type": "stream",
     "text": [
      "Episode 0 completed\n",
      "Episode 100 completed\n",
      "Episode 200 completed\n",
      "Episode 300 completed\n",
      "Episode 400 completed\n",
      "Episode 500 completed\n",
      "Episode 600 completed\n",
      "Episode 700 completed\n",
      "Episode 800 completed\n",
      "Episode 900 completed\n"
     ]
    }
   ],
   "source": [
    "def train_agent(env, agent, episodes=1000):\n",
    "    for episode in range(episodes):\n",
    "        state = env.reset()\n",
    "        done = False\n",
    "        while not done:\n",
    "            action = agent.get_action(state)\n",
    "            next_state, reward, done = env.step(action)\n",
    "            agent.update_q_value(state, action, reward, next_state)\n",
    "            state = next_state\n",
    "        agent.decay_epsilon()\n",
    "        if episode % 100 == 0:\n",
    "            print(f\"Episode {episode} completed\")\n",
    "\n",
    "env = GridWorld()\n",
    "agent = QLearningAgent(state_space=env.size**2, action_space=[0, 1, 2, 3])\n",
    "\n",
    "train_agent(env, agent)"
   ]
  },
  {
   "cell_type": "code",
   "execution_count": null,
   "metadata": {},
   "outputs": [],
   "source": [
    "def test_agent(env, agent):\n",
    "    state = env.reset()\n",
    "    done = False\n",
    "    while not done:\n",
    "        action = agent.get_best_action(state)\n",
    "        state, _, done = env.step(action)\n",
    "        print(f\"Current state: {state}\")\n",
    "    print(\"Goal reached!\")\n",
    "\n",
    "test_agent(env, agent)"
   ]
  },
  {
   "cell_type": "markdown",
   "metadata": {},
   "source": [
    "The Test code ran for more than 1.5 hours and slowed down the system"
   ]
  },
  {
   "cell_type": "code",
   "execution_count": null,
   "metadata": {},
   "outputs": [],
   "source": []
  }
 ],
 "metadata": {
  "kernelspec": {
   "display_name": "Python 3",
   "language": "python",
   "name": "python3"
  },
  "language_info": {
   "codemirror_mode": {
    "name": "ipython",
    "version": 3
   },
   "file_extension": ".py",
   "mimetype": "text/x-python",
   "name": "python",
   "nbconvert_exporter": "python",
   "pygments_lexer": "ipython3",
   "version": "3.11.4"
  }
 },
 "nbformat": 4,
 "nbformat_minor": 2
}
